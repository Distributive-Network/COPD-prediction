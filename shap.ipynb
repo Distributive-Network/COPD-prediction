{
 "cells": [
  {
   "cell_type": "code",
   "execution_count": 2,
   "metadata": {},
   "outputs": [],
   "source": [
    "import xgboost as xgb\n",
    "import shap\n",
    "import pandas as pd\n",
    "import matplotlib.pyplot as plt\n",
    "import pickle\n",
    "\n",
    "def temp_hacky_solution():\n",
    "    df = pd.read_csv('clean_full_sql.csv')\n",
    "\n",
    "    del df['is_from_er_similar_icd10_diagnosis']\n",
    "\n",
    "    return df"
   ]
  },
  {
   "cell_type": "code",
   "execution_count": 4,
   "metadata": {
    "pycharm": {
     "name": "#%%\n"
    }
   },
   "outputs": [
    {
     "name": "stdout",
     "output_type": "stream",
     "text": [
      "(303, 69)\n",
      "(69,)\n"
     ]
    }
   ],
   "source": [
    "df = temp_hacky_solution()\n",
    "\n",
    "normalizer = pickle.load(open('./models/final.pkl', 'rb'))\n",
    "df.loc[:, df.columns != 'readmitted'] = normalizer.transform(df.loc[:, df.columns != 'readmitted'])\n",
    "xgb_model = xgb.XGBClassifier()\n",
    "xgb_model.load_model('./models/final.json')\n",
    "\n",
    "explainer = shap.Explainer(xgb_model)\n",
    "shap_values = explainer(df.loc[:, df.columns != 'readmitted'])\n",
    "\n",
    "shap.summary_plot(shap_values, show=False)\n",
    "plt.savefig(\"summary_plot.png\", dpi=300, bbox_inches = \"tight\")\n",
    "plt.close()"
   ]
  },
  {
   "cell_type": "code",
   "execution_count": 4,
   "metadata": {
    "pycharm": {
     "name": "#%%\n"
    }
   },
   "outputs": [
    {
     "name": "stdout",
     "output_type": "stream",
     "text": [
      "[[0.9375752  0.06242481]]\n"
     ]
    }
   ],
   "source": [
    "idx = 25\n",
    "print(xgb_model.predict_proba(df.loc[:, df.columns != 'readmitted'].iloc[idx].values.reshape(1, -1)))\n",
    "shap.plots.waterfall(shap_values[idx], show=False)\n",
    "plt.savefig(\"waterfall.png\", dpi=300, bbox_inches = \"tight\")\n",
    "plt.close()"
   ]
  },
  {
   "cell_type": "code",
   "execution_count": null,
   "metadata": {},
   "outputs": [],
   "source": []
  }
 ],
 "metadata": {
  "kernelspec": {
   "display_name": "Python 3",
   "language": "python",
   "name": "python3"
  },
  "language_info": {
   "codemirror_mode": {
    "name": "ipython",
    "version": 3
   },
   "file_extension": ".py",
   "mimetype": "text/x-python",
   "name": "python",
   "nbconvert_exporter": "python",
   "pygments_lexer": "ipython3",
   "version": "3.8.5"
  }
 },
 "nbformat": 4,
 "nbformat_minor": 1
}
